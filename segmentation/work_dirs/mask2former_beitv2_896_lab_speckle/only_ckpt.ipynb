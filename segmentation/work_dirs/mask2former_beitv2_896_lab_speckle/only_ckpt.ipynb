{
 "cells": [
  {
   "cell_type": "code",
   "execution_count": 1,
   "metadata": {},
   "outputs": [],
   "source": [
    "import torch\n",
    "\n",
    "# Load the fine-tuned model checkpoint\n",
    "checkpoint_path = 'best_mIoU_iter_44000.pth'\n",
    "checkpoint = torch.load(checkpoint_path)\n",
    "\n",
    "# Extract the model's state_dict\n",
    "model_state_dict = checkpoint['state_dict']\n",
    "\n",
    "# Save only the state_dict to a new checkpoint\n",
    "torch.save(model_state_dict, 'mask2former_beitv2_896_speckled_crack.pth')\n"
   ]
  },
  {
   "cell_type": "code",
   "execution_count": null,
   "metadata": {},
   "outputs": [],
   "source": []
  }
 ],
 "metadata": {
  "kernelspec": {
   "display_name": "mm",
   "language": "python",
   "name": "python3"
  },
  "language_info": {
   "codemirror_mode": {
    "name": "ipython",
    "version": 3
   },
   "file_extension": ".py",
   "mimetype": "text/x-python",
   "name": "python",
   "nbconvert_exporter": "python",
   "pygments_lexer": "ipython3",
   "version": "3.9.17"
  }
 },
 "nbformat": 4,
 "nbformat_minor": 2
}
